{
  "nbformat": 4,
  "nbformat_minor": 0,
  "metadata": {
    "colab": {
      "name": "5046-A2.ipynb",
      "provenance": [],
      "collapsed_sections": []
    },
    "kernelspec": {
      "display_name": "Python 3",
      "name": "python3"
    },
    "language_info": {
      "name": "python"
    }
  },
  "cells": [
    {
      "cell_type": "markdown",
      "metadata": {
        "id": "690c-83ypUxo"
      },
      "source": [
        "## Download Data"
      ]
    },
    {
      "cell_type": "code",
      "metadata": {
        "id": "cBjyXOsI1oP5"
      },
      "source": [
        "#download file into Colaboratory:\n",
        "!pip install -U -q PyDrive\n",
        "from pydrive.auth import GoogleAuth\n",
        "from pydrive.drive import GoogleDrive\n",
        "from google.colab import auth\n",
        "from oauth2client.client import GoogleCredentials\n",
        "\n",
        "auth.authenticate_user()\n",
        "gauth = GoogleAuth()\n",
        "gauth.credentials = GoogleCredentials.get_application_default()\n",
        "drive = GoogleDrive(gauth)\n",
        "\n",
        "#train data\n",
        "train_id = '1G7IoxLhV8oHVBJ5hmD0NYZ8nU5qXr4qv'\n",
        "downloaded = drive.CreateFile({'id':train_id}) \n",
        "downloaded.GetContentFile('train.csv')  \n",
        "#value data\n",
        "val_id = '1-uz0p9CWZI1BWW0gl_2FPx5sKVHPTzHt'\n",
        "downloaded = drive.CreateFile({'id':val_id}) \n",
        "downloaded.GetContentFile('val.csv')  \n",
        "#test data\n",
        "test_id = '1ZA4dYlFMNwzM2FKaGhfFKftVX01YF-WH'\n",
        "downloaded = drive.CreateFile({'id':test_id}) \n",
        "downloaded.GetContentFile('test.csv')  \n",
        "\n",
        "#read csv file\n",
        "import pandas as pd\n",
        "\n",
        "train_data = pd.read_csv('train.csv')\n",
        "val_data = pd.read_csv('val.csv')\n",
        "test_data = pd.read_csv('test.csv')\n"
      ],
      "execution_count": 1,
      "outputs": []
    },
    {
      "cell_type": "code",
      "metadata": {
        "id": "WrW9hCQJ7-l_"
      },
      "source": [
        "#Check data\n",
        "\n",
        "#train_data.head(10)\n",
        "#len(train_data.sents[0].split(' '))\n",
        "#len(train_data.labels[0].split(' '))"
      ],
      "execution_count": 2,
      "outputs": []
    },
    {
      "cell_type": "markdown",
      "metadata": {
        "id": "jDXJnk5eNbzw"
      },
      "source": [
        "## Data Processing"
      ]
    },
    {
      "cell_type": "code",
      "metadata": {
        "id": "0RE_2fBJsYIM"
      },
      "source": [
        "# get content data\n",
        "# get sentences and labels\n",
        "# case folding - get lower case for sentences\n",
        "train_sents_data = [i.lower() for i in train_data.sents]\n",
        "train_labels_data = [i.split() for i in train_data.labels]\n",
        "val_sents_data = [i.lower() for i in val_data.sents]\n",
        "val_labels_data = [i.split() for i in val_data.labels]\n",
        "test_sents_data = [i.lower() for i in test_data.sents]\n"
      ],
      "execution_count": 3,
      "outputs": []
    },
    {
      "cell_type": "code",
      "metadata": {
        "colab": {
          "base_uri": "https://localhost:8080/",
          "height": 69
        },
        "id": "Fy2XOoI_54Uc",
        "outputId": "1e942ddf-f9ee-41ac-c83c-331eccecbb4e"
      },
      "source": [
        "train_sents_data[0]"
      ],
      "execution_count": 4,
      "outputs": [
        {
          "output_type": "execute_result",
          "data": {
            "application/vnd.google.colaboratory.intrinsic+json": {
              "type": "string"
            },
            "text/plain": [
              "'operation steel curtain ( arabic : ا ل ح ج ا ب ا ل ف و ل ا ذ ي al hejab elfulathi ) was a military operation executed by coalition forces in early november 2005 to reduce the flow of foreign insurgents crossing the border and joining the iraqi insurgency .'"
            ]
          },
          "metadata": {
            "tags": []
          },
          "execution_count": 4
        }
      ]
    },
    {
      "cell_type": "code",
      "metadata": {
        "id": "ViP2ISO9QJn3"
      },
      "source": [
        "# tokenization data\n",
        "token_train_sent = [i.split(' ') for i in train_sents_data]\n",
        "\n",
        "token_val_sent = [i.split(' ') for i in val_sents_data]\n",
        "\n",
        "token_test_sent = [i.split(' ') for i in test_sents_data]"
      ],
      "execution_count": 5,
      "outputs": []
    },
    {
      "cell_type": "code",
      "metadata": {
        "colab": {
          "base_uri": "https://localhost:8080/",
          "height": 86
        },
        "id": "bbkxHpB-vC0h",
        "outputId": "86e2f019-3bdf-4fc7-aea6-d15122f41b2f"
      },
      "source": [
        "\n",
        "'''\n",
        "# English contractions\n",
        "# using 'contractions' pckage in the paython instead using hand-write list from lab5.\n",
        "!pip install contractions\n",
        "import contractions\n",
        "from tqdm import tqdm\n",
        "\n",
        "train_sents_decontraction = [] # train data decontraction\n",
        "for token in tqdm(token_train_sent):\n",
        "  train_sents_decontraction.append(contractions.fix(sent))\n",
        "\n",
        "val_sents_decontraction = [] # test data decontraction\n",
        "for sent in tqdm(token_val_sent):\n",
        "  val_sents_decontraction.append(contractions.fix(sent))\n",
        "'''"
      ],
      "execution_count": 6,
      "outputs": [
        {
          "output_type": "execute_result",
          "data": {
            "application/vnd.google.colaboratory.intrinsic+json": {
              "type": "string"
            },
            "text/plain": [
              "\"\\n# English contractions\\n# using 'contractions' pckage in the paython instead using hand-write list from lab5.\\n!pip install contractions\\nimport contractions\\nfrom tqdm import tqdm\\n\\ntrain_sents_decontraction = [] # train data decontraction\\nfor token in tqdm(token_train_sent):\\n  train_sents_decontraction.append(contractions.fix(sent))\\n\\nval_sents_decontraction = [] # test data decontraction\\nfor sent in tqdm(token_val_sent):\\n  val_sents_decontraction.append(contractions.fix(sent))\\n\""
            ]
          },
          "metadata": {
            "tags": []
          },
          "execution_count": 6
        }
      ]
    },
    {
      "cell_type": "code",
      "metadata": {
        "colab": {
          "base_uri": "https://localhost:8080/"
        },
        "id": "pMV-ASZm0Oak",
        "outputId": "783fd38d-e461-4519-bb83-f305cf3f6f2e"
      },
      "source": [
        "\n",
        "# Lemmatisation\n",
        "import nltk\n",
        "nltk.download('wordnet')\n",
        "from nltk.stem import WordNetLemmatizer\n",
        "\n",
        "lemmatizer = WordNetLemmatizer()\n",
        "\n",
        "# For train sentences data\n",
        "text_train_le = []\n",
        "for sents in token_train_sent:\n",
        "  lem = [lemmatizer.lemmatize(word) for word in sents]\n",
        "  text_train_le.append(lem)\n",
        "\n",
        "# For validate sentences data\n",
        "text_val_le = []\n",
        "for sents in token_val_sent:\n",
        "  lem = [lemmatizer.lemmatize(word) for word in sents]\n",
        "  text_val_le.append(lem)\n",
        "\n",
        "# For test sentences data\n",
        "text_test_le = []\n",
        "for sents in token_test_sent:\n",
        "  lem = [lemmatizer.lemmatize(word) for word in sents]\n",
        "  text_test_le.append(lem)\n"
      ],
      "execution_count": 7,
      "outputs": [
        {
          "output_type": "stream",
          "text": [
            "[nltk_data] Downloading package wordnet to /root/nltk_data...\n",
            "[nltk_data]   Package wordnet is already up-to-date!\n"
          ],
          "name": "stdout"
        }
      ]
    },
    {
      "cell_type": "code",
      "metadata": {
        "id": "UX4WwFfF-9Ii"
      },
      "source": [
        ""
      ],
      "execution_count": 7,
      "outputs": []
    },
    {
      "cell_type": "markdown",
      "metadata": {
        "id": "eYVK-BYUBOcP"
      },
      "source": [
        "## Embedding"
      ]
    },
    {
      "cell_type": "code",
      "metadata": {
        "id": "R7Rnu5Li0UPH"
      },
      "source": [
        "# from lab9\n",
        "# token_train_sent + token_val_sent + token_test_sent\n",
        "# text_train_le + text_val_le + text_test_le\n",
        "\n",
        "word_to_index = {}\n",
        "\n",
        "for sentence in text_train_le + text_val_le + text_test_le:\n",
        "    for word in sentence:\n",
        "      if word not in word_to_index:\n",
        "        word_to_index[word] = len(word_to_index)\n",
        "word_list = list(word_to_index.keys())\n",
        "\n",
        "START_TAG = \"<START>\"\n",
        "STOP_TAG = \"<STOP>\"\n",
        "tag_to_index = {START_TAG:0, STOP_TAG:1}\n",
        "for tags in train_labels_data:\n",
        "    for tag in tags:\n",
        "        if tag not in tag_to_index:\n",
        "            tag_to_index[tag] = len(tag_to_index)"
      ],
      "execution_count": 8,
      "outputs": []
    },
    {
      "cell_type": "code",
      "metadata": {
        "colab": {
          "base_uri": "https://localhost:8080/"
        },
        "id": "-FbA7sri_0Ej",
        "outputId": "722b3eab-ec87-4b71-e8d8-e006d73f4341"
      },
      "source": [
        "#Part-of-Speech Tag\n",
        "\n",
        "import nltk\n",
        "nltk.download('averaged_perceptron_tagger')\n",
        "\n",
        "pos_tags = []\n",
        "for sents in text_train_le + text_val_le + text_test_le:\n",
        "  tags = []\n",
        "  for word, tag in nltk.pos_tag(sents):\n",
        "    tags.append(tag)\n",
        "  pos_tags.append(tags)"
      ],
      "execution_count": 9,
      "outputs": [
        {
          "output_type": "stream",
          "text": [
            "[nltk_data] Downloading package averaged_perceptron_tagger to\n",
            "[nltk_data]     /root/nltk_data...\n",
            "[nltk_data]   Package averaged_perceptron_tagger is already up-to-\n",
            "[nltk_data]       date!\n"
          ],
          "name": "stdout"
        }
      ]
    },
    {
      "cell_type": "code",
      "metadata": {
        "id": "D1ERuPt_VXxj"
      },
      "source": [
        "#Dependency Parsing -lab7.\n",
        "import spacy\n",
        "\n",
        "nlp = spacy.load(\"en_core_web_sm\")\n",
        "\n",
        "parse_data = []\n",
        "for sents in text_train_le + text_val_le + text_test_le:\n",
        "  parse = nlp(\" \".join(sents))\n",
        "  dependency = []\n",
        "  for i in parse:\n",
        "    dependency.append(i.dep_)\n",
        "  parse_data.append(dependency[:len(sents)])\n"
      ],
      "execution_count": 11,
      "outputs": []
    },
    {
      "cell_type": "code",
      "metadata": {
        "id": "3h3HJeHX_1wf"
      },
      "source": [
        "# Word2Vec1  \n",
        "import multiprocessing\n",
        "from gensim.models import Word2Vec\n",
        "\n",
        "word2vec_embedding = Word2Vec(sentences = pos_tags, size=30,window=5, workers=multiprocessing.cpu_count(), min_count=1,iter=10, negative=20, sg=1)"
      ],
      "execution_count": 10,
      "outputs": []
    },
    {
      "cell_type": "code",
      "metadata": {
        "id": "FitEFryEYjEf"
      },
      "source": [
        "# Word2Vec2 \n",
        "import multiprocessing\n",
        "from gensim.models import Word2Vec\n",
        "w2v_parse_tree = Word2Vec(sentences = parse_data, size=30, window=5, workers=multiprocessing.cpu_count(), min_count=1, iter=10, negative=20, sg=1)"
      ],
      "execution_count": 12,
      "outputs": []
    },
    {
      "cell_type": "code",
      "metadata": {
        "colab": {
          "base_uri": "https://localhost:8080/"
        },
        "id": "5R41FvHAeDbP",
        "outputId": "cd466c5e-5b96-4965-e3b9-a98d2b4ffd20"
      },
      "source": [
        "word_2_pos={}\n",
        "total_sents =  text_train_le + text_val_le + text_test_le\n",
        "for i in range(0, len(total_sents)):\n",
        "  for x in range(0,len(total_sents[i])):\n",
        "    try:\n",
        "      word_2_pos[total_sents[i][x]] = word2vec_embedding[pos_tags[i][x]]\n",
        "    except:\n",
        "      print((word2vec_embedding[pos_tags[i][x]]))\n",
        "\n",
        "word2parse_tree={}\n",
        "for i in range(0, len(total_sents)):\n",
        "  for x in range(0,len(total_sents[i])):\n",
        "    word2parse_tree[total_sents[i][x]] = w2v_parse_tree[parse_data[i][x]]   "
      ],
      "execution_count": 13,
      "outputs": [
        {
          "output_type": "stream",
          "text": [
            "/usr/local/lib/python3.7/dist-packages/ipykernel_launcher.py:8: DeprecationWarning: Call to deprecated `__getitem__` (Method will be removed in 4.0.0, use self.wv.__getitem__() instead).\n",
            "  \n",
            "/usr/local/lib/python3.7/dist-packages/ipykernel_launcher.py:15: DeprecationWarning: Call to deprecated `__getitem__` (Method will be removed in 4.0.0, use self.wv.__getitem__() instead).\n",
            "  from ipykernel import kernelapp as app\n"
          ],
          "name": "stderr"
        }
      ]
    },
    {
      "cell_type": "code",
      "metadata": {
        "id": "nJ3YbK_buRPk"
      },
      "source": [
        "# Generate Embedding Matrix\n",
        "import gensim.downloader as api\n",
        "import numpy as np\n",
        "\n",
        "# word2vec model\n",
        "#word_emb_model = api.load(\"glove-twitter-25\")\n",
        "#word_emb_model = api.load(\"glove-twitter-50\")\n",
        "#word_emb_model = api.load(\"glove-twitter-100\") \n",
        "word_emb_model = api.load(\"glove-twitter-200\")"
      ],
      "execution_count": 15,
      "outputs": []
    },
    {
      "cell_type": "code",
      "metadata": {
        "id": "WFuEOZJK2ZbX",
        "colab": {
          "base_uri": "https://localhost:8080/"
        },
        "outputId": "3c76fbe5-367d-48be-d011-2f32b0a48462"
      },
      "source": [
        "# lab9\n",
        "EMBEDDING_DIM = 261\n",
        "\n",
        "embedding_matrix = []\n",
        "for word in word_list:\n",
        "    try:\n",
        "        word_embedding_temp = word_emb_model.wv[word]\n",
        "        word_embedding_temp.extend(word_2_pos[word])\n",
        "        word_embedding_temp.extend(word_2_pt[word])\n",
        "        word_embedding_temp.extend(len(word))\n",
        "        embedding_matrix.append(word_embedding_temp)\n",
        "\n",
        "    except:\n",
        "        embedding_matrix.append([0]*EMBEDDING_DIM)\n",
        "embedding_matrix = np.array(embedding_matrix)\n"
      ],
      "execution_count": 16,
      "outputs": [
        {
          "output_type": "stream",
          "text": [
            "/usr/local/lib/python3.7/dist-packages/ipykernel_launcher.py:7: DeprecationWarning: Call to deprecated `wv` (Attribute will be removed in 4.0.0, use self instead).\n",
            "  import sys\n"
          ],
          "name": "stderr"
        }
      ]
    },
    {
      "cell_type": "code",
      "metadata": {
        "id": "iFHsa7M30SZH"
      },
      "source": [
        "#convert data into index - from lab9 \n",
        "  # token_train_sent + token_val_sent + token_test_sent\n",
        "  # text_train_le + text_val_le + text_test_le\n",
        "\n",
        "def to_index(data, to_ix):\n",
        "    input_index_list = []\n",
        "    for sent in data:\n",
        "        input_index_list.append([to_ix[w] for w in sent])\n",
        "    return input_index_list\n",
        "\n",
        "train_input_index =  to_index(text_train_le,word_to_index)\n",
        "train_output_index = to_index(train_labels_data,tag_to_index)\n",
        "val_input_index = to_index(text_val_le,word_to_index)\n",
        "val_output_index = to_index(val_labels_data,tag_to_index)\n",
        "test_input_index = to_index(text_test_le,word_to_index)\n",
        "#test_output_index = to_index(target_y_test,tag_to_ix)"
      ],
      "execution_count": 17,
      "outputs": []
    },
    {
      "cell_type": "markdown",
      "metadata": {
        "id": "fw-dpQiJkRX_"
      },
      "source": [
        "##Model"
      ]
    },
    {
      "cell_type": "code",
      "metadata": {
        "id": "He51iHGzICqI"
      },
      "source": [
        "\n",
        "# from lab9\n",
        "import torch\n",
        "import torch.autograd as autograd\n",
        "import torch.nn as nn\n",
        "import torch.optim as optim\n",
        "import torch.nn.functional as F\n",
        "\n",
        "def argmax(vec):\n",
        "    # return the argmax as a python int\n",
        "    _, idx = torch.max(vec, 1)\n",
        "    return idx.item()\n",
        "\n",
        "# Compute log sum exp in a numerically stable way for the forward algorithm\n",
        "def log_sum_exp(vec):\n",
        "    max_score = vec[0, argmax(vec)]\n",
        "    max_score_broadcast = max_score.view(1, -1).expand(1, vec.size()[1])\n",
        "    return max_score + \\\n",
        "        torch.log(torch.sum(torch.exp(vec - max_score_broadcast)))\n",
        "\n",
        "\n",
        "\n",
        "class BiLSTM_CRF(nn.Module):\n",
        "\n",
        "    def __init__(self, vocab_size, tag_to_ix, embedding_dim, hidden_dim, Dropout = 0.1):\n",
        "        super(BiLSTM_CRF, self).__init__()\n",
        "        self.embedding_dim = embedding_dim\n",
        "        self.hidden_dim = hidden_dim\n",
        "        self.vocab_size = vocab_size\n",
        "        self.tag_to_ix = tag_to_ix\n",
        "        self.tagset_size = len(tag_to_ix)\n",
        "\n",
        "        self.general_attention_weight = nn.parameter.Parameter(torch.Tensor(1, self.hidden_dim, self.hidden_dim), requires_grad = True)\n",
        "\n",
        "        self.word_embeds = nn.Embedding(vocab_size, embedding_dim)\n",
        "\n",
        "        \"\"\"Here we use the embedding matrix as the initial weights of nn.Embedding\"\"\"\n",
        "        self.word_embeds.weight.data.copy_(torch.from_numpy(embedding_matrix))\n",
        "\n",
        "        # LSTM configure\n",
        "        self.lstm = nn.LSTM(embedding_dim, hidden_dim // 2,\n",
        "                            num_layers=2, bidirectional=True)\n",
        "\n",
        "        self.dropout = nn.Dropout(Dropout)\n",
        "        # Maps the output of the LSTM into tag space.\n",
        "        self.hidden2tag = nn.Linear(hidden_dim * 2, self.tagset_size)\n",
        "        # Matrix of transition parameters.  Entry i,j is the score of\n",
        "        # transitioning *to* i *from* j.\n",
        "        self.transitions = nn.Parameter(\n",
        "            torch.randn(self.tagset_size, self.tagset_size))\n",
        "        print(self.transitions.shape)\n",
        "\n",
        "        # These two statements enforce the constraint that we never transfer\n",
        "        # to the start tag and we never transfer from the stop tag\n",
        "        self.transitions.data[tag_to_ix[START_TAG], :] = -10000\n",
        "        self.transitions.data[:, tag_to_ix[STOP_TAG]] = -10000\n",
        "\n",
        "        self.hidden = self.init_hidden()\n",
        "\n",
        "    def init_hidden(self):\n",
        "        return (torch.randn(2 *2, 1, self.hidden_dim // 2).to(device),\n",
        "                torch.randn(2 *2, 1, self.hidden_dim // 2).to(device))\n",
        "      \n",
        "\n",
        "    def _forward_alg(self, feats):\n",
        "        # Do the forward algorithm to compute the partition function\n",
        "        init_alphas = torch.full((1, self.tagset_size), -10000.).to(device)\n",
        "        # START_TAG has all of the score.\n",
        "        init_alphas[0][self.tag_to_ix[START_TAG]] = 0.\n",
        "\n",
        "        # Wrap in a variable so that we will get automatic backprop\n",
        "        forward_var = init_alphas\n",
        "\n",
        "        # Iterate through the sentence\n",
        "        for feat in feats:\n",
        "            alphas_t = []  # The forward tensors at this timestep\n",
        "            for next_tag in range(self.tagset_size):\n",
        "                # broadcast the emission score: it is the same regardless of\n",
        "                # the previous tag\n",
        "                emit_score = feat[next_tag].view(\n",
        "                    1, -1).expand(1, self.tagset_size)\n",
        "                # the ith entry of trans_score is the score of transitioning to\n",
        "                # next_tag from i\n",
        "                trans_score = self.transitions[next_tag].view(1, -1)\n",
        "                # The ith entry of next_tag_var is the value for the\n",
        "                # edge (i -> next_tag) before we do log-sum-exp\n",
        "                next_tag_var = forward_var + trans_score + emit_score\n",
        "                # The forward variable for this tag is log-sum-exp of all the\n",
        "                # scores.\n",
        "                alphas_t.append(log_sum_exp(next_tag_var).view(1))\n",
        "            forward_var = torch.cat(alphas_t).view(1, -1)\n",
        "        terminal_var = forward_var + self.transitions[self.tag_to_ix[STOP_TAG]]\n",
        "        alpha = log_sum_exp(terminal_var)\n",
        "        return alpha\n",
        "\n",
        "\n",
        "    def _get_lstm_features(self, sentence):\n",
        "        self.hidden = self.init_hidden()\n",
        "        embeds = self.word_embeds(sentence).view(len(sentence), 1, -1)\n",
        "        lstm_out, self.hidden = self.lstm(embeds, self.hidden)\n",
        "            \n",
        "        lstm_out = torch.squeeze(lstm_out, 1)\n",
        "\n",
        "        left_self = lstm_out.view(1, lstm_out.size(0), lstm_out.size(1))\n",
        "\n",
        "        right_self = left_self.view(left_self.size(0), left_self.size(2), left_self.size(1))\n",
        "\n",
        "        #scale_dot_product\n",
        "        weight_att = nn.functional.softmax(torch.bmm(left_self, right_self) / np.sqrt(self.hidden_dim),dim=-1)\n",
        "\n",
        "        '''\n",
        "        #general_attention\n",
        "        x = torch.bmm(torch.bmm(left_self, self.general_attention_weight), right_self)\n",
        "        weight_att = nn.functional.softmax(x, dim= -1)\n",
        "        '''\n",
        "\n",
        "        '''\n",
        "        # dot_product\n",
        "        weight_att = nn.functional.softmax(torch.bmm(left_self, right_self),dim= -1)\n",
        "        '''\n",
        "\n",
        "        output = torch.bmm(weight_att, left_self)\n",
        "        concat_output = torch.cat((output, left_self), dim = -1)\n",
        "        lstm_out = concat_output.view(len(sentence), self.hidden_dim * 2)\n",
        "\n",
        "        lstm_out = self.dropout(lstm_out)\n",
        "        lstm_feats = self.hidden2tag(lstm_out)\n",
        "      \n",
        "        return lstm_feats\n",
        "\n",
        "    def _score_sentence(self, feats, tags):\n",
        "        # Gives the score of a provided tag sequence\n",
        "        score = torch.zeros(1).to(device)\n",
        "        tags = torch.cat([torch.tensor([self.tag_to_ix[START_TAG]], dtype=torch.long).to(device), tags])\n",
        "        for i, feat in enumerate(feats):\n",
        "            score = score + self.transitions[tags[i + 1], tags[i]] + feat[tags[i + 1]]\n",
        "        score = score + self.transitions[self.tag_to_ix[STOP_TAG], tags[-1]]\n",
        "        return score\n",
        "\n",
        "    def _viterbi_decode(self, feats):\n",
        "        \n",
        "        backpointers = []\n",
        "\n",
        "        # Initialize the viterbi variables in log space\n",
        "        init_vvars = torch.full((1, self.tagset_size), -10000.).to(device)\n",
        "        init_vvars[0][self.tag_to_ix[START_TAG]] = 0\n",
        "\n",
        "        # forward_var at step i holds the viterbi variables for step i-1\n",
        "        forward_var = init_vvars\n",
        "        for feat in feats:\n",
        "            bptrs_t = []  # holds the backpointers for this step\n",
        "            viterbivars_t = []  # holds the viterbi variables for this step\n",
        "\n",
        "            for next_tag in range(self.tagset_size):\n",
        "                # next_tag_var[i] holds the viterbi variable for tag i at the\n",
        "                # previous step, plus the score of transitioning\n",
        "                # from tag i to next_tag.\n",
        "                # We don't include the emission scores here because the max\n",
        "                # does not depend on them (we add them in below)\n",
        "                next_tag_var = forward_var + self.transitions[next_tag]\n",
        "                best_tag_id = argmax(next_tag_var)\n",
        "                bptrs_t.append(best_tag_id)\n",
        "                viterbivars_t.append(next_tag_var[0][best_tag_id].view(1))\n",
        "            # Now add in the emission scores, and assign forward_var to the set\n",
        "            # of viterbi variables we just computed\n",
        "            forward_var = (torch.cat(viterbivars_t) + feat).view(1, -1)\n",
        "            backpointers.append(bptrs_t)\n",
        "\n",
        "        # Transition to STOP_TAG\n",
        "        terminal_var = forward_var + self.transitions[self.tag_to_ix[STOP_TAG]]\n",
        "        best_tag_id = argmax(terminal_var)\n",
        "        path_score = terminal_var[0][best_tag_id]\n",
        "\n",
        "        # Follow the back pointers to decode the best path.\n",
        "        best_path = [best_tag_id]\n",
        "        for bptrs_t in reversed(backpointers):\n",
        "            best_tag_id = bptrs_t[best_tag_id]\n",
        "            best_path.append(best_tag_id)\n",
        "        # Pop off the start tag (we dont want to return that to the caller)\n",
        "        start = best_path.pop()\n",
        "        assert start == self.tag_to_ix[START_TAG]  # Sanity check\n",
        "        best_path.reverse()\n",
        "        return path_score, best_path\n",
        "\n",
        "    def neg_log_likelihood(self, sentence, tags):\n",
        "        \n",
        "        feats = self._get_lstm_features(sentence)\n",
        "        forward_score = self._forward_alg(feats)\n",
        "        gold_score = self._score_sentence(feats, tags)\n",
        "        \n",
        "        return forward_score - gold_score\n",
        "\n",
        "    def forward(self, sentence):\n",
        "        \n",
        "        # dont confuse this with _forward_alg above.\n",
        "        # Get the emission scores from the BiLSTM\n",
        "        lstm_feats = self._get_lstm_features(sentence)\n",
        "\n",
        "        # Find the best path, given the features.\n",
        "        score, tag_seq = self._viterbi_decode(lstm_feats)\n",
        "        return score, tag_seq\n"
      ],
      "execution_count": 18,
      "outputs": []
    },
    {
      "cell_type": "code",
      "metadata": {
        "id": "3Q8hR_dgsFXF"
      },
      "source": [
        ""
      ],
      "execution_count": 18,
      "outputs": []
    },
    {
      "cell_type": "code",
      "metadata": {
        "id": "IjuqJSynIDVr"
      },
      "source": [
        "# from lab9\n",
        "import numpy as np\n",
        "from sklearn.metrics import accuracy_score\n",
        "from sklearn.metrics import f1_score\n",
        "\n",
        "def cal_acc(model, input_index, output_index):\n",
        "    \n",
        "    ground_truth=[]\n",
        "    predicted=[]\n",
        "    for x,y in zip(input_index,output_index):\n",
        "        input_tensor = torch.tensor(x).to(device)\n",
        "        _, output = model(input_tensor)\n",
        "        ground_truth.extend(y)\n",
        "\n",
        "        predicted.extend(output)\n",
        "\n",
        "    f1score = f1_score(ground_truth,predicted, average = 'micro')\n",
        "   \n",
        "    return ground_truth, predicted, f1score"
      ],
      "execution_count": 19,
      "outputs": []
    },
    {
      "cell_type": "code",
      "metadata": {
        "id": "-mF8cQRrIF6U"
      },
      "source": [
        ""
      ],
      "execution_count": 19,
      "outputs": []
    },
    {
      "cell_type": "code",
      "metadata": {
        "id": "fgmbxZvwIJaL",
        "colab": {
          "base_uri": "https://localhost:8080/"
        },
        "outputId": "2db85393-429f-48c8-f958-7222b0e3c0da"
      },
      "source": [
        "device = torch.device(\"cuda\" if torch.cuda.is_available() else \"cpu\")\n",
        "HIDDEN_DIM = 100\n",
        "learning_rate = 0.01\n",
        "\n",
        "model = BiLSTM_CRF(len(word_to_index), tag_to_index, EMBEDDING_DIM, HIDDEN_DIM, Dropout = 0.1).to(device)\n",
        "\n",
        "optimizer = optim.SGD(model.parameters(), lr=learning_rate, weight_decay=1e-4)"
      ],
      "execution_count": 20,
      "outputs": [
        {
          "output_type": "stream",
          "text": [
            "torch.Size([23, 23])\n"
          ],
          "name": "stdout"
        }
      ]
    },
    {
      "cell_type": "code",
      "metadata": {
        "id": "VBRgOJDUIMK1"
      },
      "source": [
        "# train data and labels\n",
        "train_data = train_input_index + val_input_index\n",
        "train_label = train_output_index + val_output_index"
      ],
      "execution_count": 21,
      "outputs": []
    },
    {
      "cell_type": "markdown",
      "metadata": {
        "id": "MtGGBlt4N3pE"
      },
      "source": [
        "##Trainning"
      ]
    },
    {
      "cell_type": "code",
      "metadata": {
        "colab": {
          "base_uri": "https://localhost:8080/"
        },
        "id": "tUTxHMKuINz0",
        "outputId": "977944be-b7a2-4d92-fa24-b94fc4763475"
      },
      "source": [
        "# from lab9\n",
        "import datetime\n",
        "\n",
        "'''\n",
        "# record log info\n",
        "import os\n",
        "import sys\n",
        "class Logger():\n",
        "    def __init__(self, filename=\"log.txt\"):\n",
        "        self.terminal = sys.stdout\n",
        "        self.log = open(filename, \"w\")\n",
        "\n",
        "    def write(self, message):\n",
        "        self.terminal.write(message)\n",
        "        self.log.write(message)\n",
        "\n",
        "    def flush(self):\n",
        "        pass\n",
        "'''\n",
        "\n",
        "print(\"=\"*100)\n",
        "print(\"Training the model with following configs: layers = 2 & learning rate = 0.01 & Epoch = 20 & Attention = Scale Dot Product\")\n",
        "print(\"=\"*100)\n",
        "for epoch in range(20):  \n",
        "    time1 = datetime.datetime.now()\n",
        "    train_loss = 0\n",
        "\n",
        "    model.train()\n",
        "    \n",
        "    for i, idxs in enumerate(train_data):\n",
        "\n",
        "        tags_index = train_label[i]\n",
        "\n",
        "        # Step 1. Remember that Pytorch accumulates gradients.\n",
        "        # We need to clear them out before each instance\n",
        "        model.zero_grad()\n",
        "\n",
        "        # Step 2. Get our inputs ready for the network, that is,\n",
        "        # turn them into Tensors of word indices.\n",
        "        sentence_in = torch.tensor(idxs, dtype=torch.long).to(device)\n",
        "        targets = torch.tensor(tags_index, dtype=torch.long).to(device)\n",
        "\n",
        "        # Step 3. Run our forward pass.\n",
        "        #with CRF\n",
        "        loss = model.neg_log_likelihood(sentence_in, targets)\n",
        "\n",
        "        # Step 4. Compute the loss, gradients, and update the parameters by\n",
        "        # calling optimizer.step()\n",
        "        loss.backward()\n",
        "        optimizer.step()\n",
        "\n",
        "        train_loss+=loss.item()\n",
        "        \n",
        "\n",
        "    \n",
        "    model.eval()\n",
        "    # Call the cal_acc functions you implemented as required\n",
        "    _, _, train_acc = cal_acc(model, train_input_index, train_output_index)\n",
        "    _, _, val_acc = cal_acc(model, val_input_index, val_output_index)\n",
        "\n",
        "    best_val_acc = 0\n",
        "    if(val_acc > best_val_acc):\n",
        "      best_model = model\n",
        "      best_val_acc=val_acc\n",
        "\n",
        "    val_loss = 0\n",
        "    for i, idxs in enumerate(val_input_index):\n",
        "      tags_index = val_output_index[i]\n",
        "      sentence_in = torch.tensor(idxs, dtype=torch.long).to(device)\n",
        "      targets = torch.tensor(tags_index, dtype=torch.long).to(device)\n",
        "      loss = model.neg_log_likelihood(sentence_in, targets)\n",
        "      val_loss+=loss.item()\n",
        "      \n",
        "    time2 = datetime.datetime.now()\n",
        "\n",
        "    #sys.stdout = Logger()\n",
        "    print(\"Epoch:%d, Training loss: %.2f, train f1 score: %.3f, val loss: %.2f, val f1 score: %.3f, time: %.1fs\" %(epoch+1, train_loss, train_acc, val_loss, val_acc, (time2-time1).total_seconds()))\n",
        "    \n"
      ],
      "execution_count": 49,
      "outputs": [
        {
          "output_type": "stream",
          "text": [
            "====================================================================================================\n",
            "Training the model with following configs: layers = 2 & learning rate = 0.01 & Epoch = 20 & Attention = Scale Dot Product\n",
            "====================================================================================================\n",
            "Epoch:1, Training loss: 547.25, train f1 score: 0.976, val loss: 90.61, val f1 score: 0.993, time: 145.9s\n",
            "Epoch:2, Training loss: 595.23, train f1 score: 0.978, val loss: 93.76, val f1 score: 0.991, time: 146.4s\n",
            "Epoch:3, Training loss: 526.52, train f1 score: 0.976, val loss: 88.33, val f1 score: 0.994, time: 147.5s\n",
            "Epoch:4, Training loss: 490.71, train f1 score: 0.972, val loss: 84.53, val f1 score: 0.995, time: 147.8s\n",
            "Epoch:5, Training loss: 494.11, train f1 score: 0.982, val loss: 61.49, val f1 score: 0.997, time: 145.3s\n",
            "Epoch:6, Training loss: 518.11, train f1 score: 0.976, val loss: 58.87, val f1 score: 0.996, time: 145.3s\n",
            "Epoch:7, Training loss: 500.45, train f1 score: 0.982, val loss: 55.11, val f1 score: 0.995, time: 145.3s\n",
            "Epoch:8, Training loss: 440.34, train f1 score: 0.984, val loss: 59.64, val f1 score: 0.997, time: 145.6s\n",
            "Epoch:9, Training loss: 496.33, train f1 score: 0.981, val loss: 55.03, val f1 score: 0.997, time: 145.2s\n",
            "Epoch:10, Training loss: 403.40, train f1 score: 0.974, val loss: 60.73, val f1 score: 0.996, time: 145.5s\n",
            "Epoch:11, Training loss: 380.15, train f1 score: 0.982, val loss: 38.79, val f1 score: 0.997, time: 146.1s\n",
            "Epoch:12, Training loss: 393.22, train f1 score: 0.983, val loss: 44.36, val f1 score: 0.998, time: 144.8s\n",
            "Epoch:13, Training loss: 349.28, train f1 score: 0.981, val loss: 38.01, val f1 score: 0.999, time: 144.4s\n",
            "Epoch:14, Training loss: 404.25, train f1 score: 0.984, val loss: 38.55, val f1 score: 0.998, time: 145.1s\n",
            "Epoch:15, Training loss: 354.17, train f1 score: 0.984, val loss: 39.57, val f1 score: 0.997, time: 144.9s\n",
            "Epoch:16, Training loss: 348.42, train f1 score: 0.984, val loss: 68.03, val f1 score: 0.993, time: 146.1s\n",
            "Epoch:17, Training loss: 456.94, train f1 score: 0.979, val loss: 61.59, val f1 score: 0.995, time: 146.1s\n",
            "Epoch:18, Training loss: 409.21, train f1 score: 0.985, val loss: 48.96, val f1 score: 0.997, time: 144.8s\n",
            "Epoch:19, Training loss: 419.42, train f1 score: 0.980, val loss: 55.60, val f1 score: 0.995, time: 144.7s\n",
            "Epoch:20, Training loss: 418.70, train f1 score: 0.982, val loss: 71.05, val f1 score: 0.995, time: 144.9s\n"
          ],
          "name": "stdout"
        }
      ]
    },
    {
      "cell_type": "code",
      "metadata": {
        "id": "gbgtwgZTd3vT"
      },
      "source": [
        "# save model\n",
        "\n",
        "torch.save(model, \"model.pt\")\n",
        "#torch.save(model_dot, \"model2.pt\")\n",
        "#torch.save(model_general_atten, \"model3.pt\")"
      ],
      "execution_count": 66,
      "outputs": []
    },
    {
      "cell_type": "code",
      "metadata": {
        "id": "wauykCkYeX_c"
      },
      "source": [
        "model_load = torch.load(\"model.pt\")\n",
        "#model_load = torch.load(\"model2.pt\")"
      ],
      "execution_count": 58,
      "outputs": []
    },
    {
      "cell_type": "markdown",
      "metadata": {
        "id": "V21mPj11OEA5"
      },
      "source": [
        "## Evaluation"
      ]
    },
    {
      "cell_type": "code",
      "metadata": {
        "id": "tGWO5-7Nx1II"
      },
      "source": [
        "# from lab9\n",
        "y_true, y_pred,_ = cal_acc(model, val_input_index, val_output_index)\n",
        "\n",
        "def decode_output(output_list):\n",
        "    ix_to_tag = {v:k for k,v in tag_to_index.items()}\n",
        "    return [ix_to_tag[output] for output in output_list]\n",
        "\n",
        "y_true_decode = decode_output(y_true)\n",
        "y_pred_decode = decode_output(y_pred)"
      ],
      "execution_count": 59,
      "outputs": []
    },
    {
      "cell_type": "code",
      "metadata": {
        "id": "P0rIvONvx4Mt",
        "colab": {
          "base_uri": "https://localhost:8080/"
        },
        "outputId": "cac58100-41ba-446a-f9d5-0c8a4321bd51"
      },
      "source": [
        "# from lab9\n",
        "\n",
        "from sklearn.metrics import classification_report\n",
        "print(classification_report(y_true_decode,y_pred_decode,digits=3))\n",
        "#"
      ],
      "execution_count": 60,
      "outputs": [
        {
          "output_type": "stream",
          "text": [
            "                     precision    recall  f1-score   support\n",
            "\n",
            "B-DocumentReference      1.000     1.000     1.000        20\n",
            "         B-Location      1.000     0.984     0.992       186\n",
            " B-MilitaryPlatform      0.938     0.938     0.938        16\n",
            "            B-Money      1.000     1.000     1.000         5\n",
            "      B-Nationality      1.000     1.000     1.000         8\n",
            "     B-Organisation      0.972     0.993     0.982       280\n",
            "           B-Person      0.990     0.980     0.985       102\n",
            "         B-Quantity      1.000     0.982     0.991        55\n",
            "         B-Temporal      1.000     0.979     0.989        47\n",
            "           B-Weapon      0.925     0.974     0.949        38\n",
            "I-DocumentReference      1.000     0.964     0.982        83\n",
            "         I-Location      1.000     0.992     0.996       265\n",
            " I-MilitaryPlatform      0.941     1.000     0.970        16\n",
            "            I-Money      1.000     1.000     1.000        10\n",
            "      I-Nationality      1.000     1.000     1.000         1\n",
            "     I-Organisation      0.993     0.998     0.995       416\n",
            "           I-Person      1.000     0.977     0.988       173\n",
            "         I-Quantity      1.000     1.000     1.000        26\n",
            "         I-Temporal      1.000     1.000     1.000        62\n",
            "           I-Weapon      0.978     0.978     0.978        45\n",
            "                  O      0.997     0.998     0.998      3420\n",
            "\n",
            "           accuracy                          0.995      5274\n",
            "          macro avg      0.987     0.987     0.987      5274\n",
            "       weighted avg      0.995     0.995     0.995      5274\n",
            "\n"
          ],
          "name": "stdout"
        }
      ]
    },
    {
      "cell_type": "code",
      "metadata": {
        "colab": {
          "base_uri": "https://localhost:8080/",
          "height": 573
        },
        "id": "wWaDJdrrrLAY",
        "outputId": "c12c4927-85cb-432c-9e17-ffafe1a614a7"
      },
      "source": [
        "# First result of train loss and val loss\n",
        "\n",
        "import matplotlib.pyplot as plt\n",
        "from matplotlib.pyplot import MultipleLocator\n",
        "plt.figure(0)\n",
        "\n",
        "train_loss = [23468.66, 19145.45, 17879.59, 16851.48, 13904.45, 10939.68, 9651.20, 8711.03, 7846.90, 6896.24, 6100.36, \n",
        "5342.08, 4732.81, 4234.11, 3777.41, 3505.42, 3088.97, 2857.67, 2566.01, 2347.08]\n",
        "val_loss = [5770.96, 5219.54, 4909.61, 4428.18, 3095.42, 2676.06, 2361.55, 2116.44, 1836.57, 1589.17, 1374.37, 1160.77, \n",
        "           1033.30, 903.62, 792.23, 718.06, 654.42, 586.67, 533.76, 479.10]\n",
        "plt.title('Train-loss and Val-loss(First time training)')\n",
        "plt.plot(train_loss, label='train loss', linewidth=2, color='r', marker='o', markerfacecolor='r', markersize=5)\n",
        "plt.plot(val_loss, label='val loss', linewidth=2, color='b', marker='o', markerfacecolor='b', markersize=5)\n",
        "x_major_locator=MultipleLocator(1)\n",
        "plt.xlabel('Epoch')\n",
        "plt.ylabel('Loss Value')\n",
        "ax=plt.gca()\n",
        "plt.grid()\n",
        "ax.xaxis.set_major_locator(x_major_locator)\n",
        "plt.xlim(1,20)\n",
        "\n",
        "plt.legend(loc='upper left')\n",
        "plt.savefig(\"./loss_info_first.png\")\n",
        "plt.show()\n",
        "\n",
        "\n",
        "train_f1= [0.700, 0.700, 0.700, 0.701,  0.725,  0.744, 0.760, 0.790, 0.807, \n",
        "                0.824, 0.839, 0.872, 0.874, 0.898, 0.912, 0.912, 0.917, 0.930, 0.937, 0.940]\n",
        "val_f1 = [0.648, 0.648, 0.648, 0.649, 0.708,  0.734, 0.755, 0.779, 0.801, 0.818, \n",
        "          0.839, 0.876, 0.879, 0.907, 0.921, 0.922, 0.930, 0.941, 0.948, 0.950]\n",
        "\n",
        "plt.title('Train-F1 and Val-F1(First time training)')\n",
        "plt.plot(train_f1, label='train f1', linewidth=2, color='r', marker='o', markerfacecolor='r', markersize=5)\n",
        "plt.plot(val_f1, label='val f1', linewidth=2, color='b', marker='o', markerfacecolor='b', markersize=5)\n",
        "x_major_locator=MultipleLocator(1)\n",
        "plt.xlabel('Epoch')\n",
        "plt.ylabel('Loss Value')\n",
        "ax=plt.gca()\n",
        "plt.grid()\n",
        "ax.xaxis.set_major_locator(x_major_locator)\n",
        "plt.xlim(1,20)\n",
        "plt.legend(loc='upper left')\n",
        "plt.savefig(\"./f1_info_first.png\")\n",
        "plt.show()"
      ],
      "execution_count": 65,
      "outputs": [
        {
          "output_type": "display_data",
          "data": {
            "image/png": "[encoded data removed]",
            "text/plain": [
              "<Figure size 432x288 with 1 Axes>"
            ]
          },
          "metadata": {
            "tags": [],
            "needs_background": "light"
          }
        },
        {
          "output_type": "display_data",
          "data": {
            "image/png": "[encoded data removed]",
            "text/plain": [
              "<Figure size 432x288 with 1 Axes>"
            ]
          },
          "metadata": {
            "tags": [],
            "needs_background": "light"
          }
        }
      ]
    },
    {
      "cell_type": "code",
      "metadata": {
        "id": "vf-w5GgC7-7x",
        "colab": {
          "base_uri": "https://localhost:8080/",
          "height": 573
        },
        "outputId": "2398eed9-0b57-44d9-f22b-7c239f371612"
      },
      "source": [
        "# After training\n",
        "import matplotlib.pyplot as plt\n",
        "from matplotlib.pyplot import MultipleLocator\n",
        "\n",
        "#train_loss and val_loss plot\n",
        "plt.figure(0)\n",
        "train_loss = [547.25, 595.23, 526.52, 490.71, 494.11, 518.11, 500.45, 440.34,496.33,\n",
        "              403.40, 380.15, 393.22, 349.28, 404.25, 354.17, 348.42, 456.94, 409.21, 419.42, 418.70]\n",
        "val_loss = [90.61,93.76, 88.33, 84.53, 61.49, 58.87, 55.11, 59.64,55.03, 60.73,\n",
        "            38.79, 44.36, 38.01, 38.55, 39.57, 68.03, 61.59, 48.96,55.60,71.05]\n",
        "\n",
        "plt.title('Train-loss and Val-loss(After)')\n",
        "plt.plot(train_loss, label='train loss', linewidth=2, color='r', marker='o', markerfacecolor='r', markersize=5)\n",
        "plt.plot(val_loss, label='val loss', linewidth=2, color='b', marker='o', markerfacecolor='b', markersize=5)\n",
        "x_major_locator=MultipleLocator(1)\n",
        "plt.xlabel('Epoch')\n",
        "plt.ylabel('Loss Value')\n",
        "ax=plt.gca()\n",
        "plt.grid()\n",
        "ax.xaxis.set_major_locator(x_major_locator)\n",
        "plt.xlim(1,20)\n",
        "\n",
        "plt.legend(loc='upper right')\n",
        "plt.savefig(\"./loss_info.png\")\n",
        "plt.show()\n",
        "\n",
        "# train_f1 score and val_loss score plot\n",
        "plt.figure(1)\n",
        "train_f1 = [0.976, 0.978, 0.976, 0.972, 0.982, 0.976, 0.982,0.984, 0.981,0.974,0.982, \n",
        "            0.983, 0.981, 0.984, 0.984, 0.984, 0.979,0.985, 0.980, 0.982]\n",
        "val_f1 = [0.993,0.991, 0.994, 0.994, 0.997,0.996, 0.995, 0.997, 0.997, 0.996, 0.997, \n",
        "          0.998, 0.999, 0.998, 0.997, 0.993, 0.995, 0.997,0.995,0.995]\n",
        "plt.title('Train-F1 and Val-F1(After)')\n",
        "plt.plot(train_f1, label='train f1', linewidth=2, color='r', marker='o', markerfacecolor='r', markersize=5)\n",
        "plt.plot(val_f1, label='val f1', linewidth=2, color='b', marker='o', markerfacecolor='b', markersize=5)\n",
        "x_major_locator=MultipleLocator(1)\n",
        "plt.xlabel('Epoch')\n",
        "plt.ylabel('F1 Value')\n",
        "ax=plt.gca()\n",
        "plt.grid()\n",
        "ax.xaxis.set_major_locator(x_major_locator)\n",
        "plt.xlim(1,20)\n",
        "plt.legend(loc='upper right')\n",
        "plt.savefig(\"./f1_info.png\")\n",
        "plt.show()\n"
      ],
      "execution_count": 63,
      "outputs": [
        {
          "output_type": "display_data",
          "data": {
            "image/png": "[encoded data removed]",
            "text/plain": [
              "<Figure size 432x288 with 1 Axes>"
            ]
          },
          "metadata": {
            "tags": [],
            "needs_background": "light"
          }
        },
        {
          "output_type": "display_data",
          "data": {
            "image/png": "[encoded data removed]",
            "text/plain": [
              "<Figure size 432x288 with 1 Axes>"
            ]
          },
          "metadata": {
            "tags": [],
            "needs_background": "light"
          }
        }
      ]
    },
    {
      "cell_type": "markdown",
      "metadata": {
        "id": "g_ps2UtcN0jF"
      },
      "source": [
        "##Output result file"
      ]
    },
    {
      "cell_type": "code",
      "metadata": {
        "id": "hyLCigMefgek"
      },
      "source": [
        "ix_2_tag={}\n",
        "for x in tag_to_index.keys():\n",
        "    ix_2_tag[tag_to_index[x]] = x\n"
      ],
      "execution_count": 26,
      "outputs": []
    },
    {
      "cell_type": "code",
      "metadata": {
        "id": "fDK9YmQZetKs"
      },
      "source": [
        "\n",
        "def predict(model, input_index):\n",
        "    predicted=[]\n",
        "    for x in input_index:\n",
        "        input_tensor = torch.tensor(x).to(device)\n",
        "        _, output = model(input_tensor)\n",
        "\n",
        "        for i in output:\n",
        "          predicted.append(ix_2_tag[i])\n",
        "    return predicted\n",
        "\n",
        "predition = predict(best_model, test_input_index)"
      ],
      "execution_count": 27,
      "outputs": []
    },
    {
      "cell_type": "code",
      "metadata": {
        "id": "ebw8bKDEfyGX",
        "colab": {
          "base_uri": "https://localhost:8080/"
        },
        "outputId": "f2c5ccee-502a-4aef-98b4-10c9426084a8"
      },
      "source": [
        "# Output result csv file\n",
        "model_result = range(len(predition))\n",
        "\n",
        "test_predition = {'id':model_result,'Predicted':predition }\n",
        "df = pd.DataFrame(test_predition)\n",
        "\n",
        "df.to_csv('output.csv',index=False)\n",
        "print(\"output file successfully!\")"
      ],
      "execution_count": 67,
      "outputs": [
        {
          "output_type": "stream",
          "text": [
            "output file successfully!\n"
          ],
          "name": "stdout"
        }
      ]
    },
    {
      "cell_type": "code",
      "metadata": {
        "id": "BN9I6dc6GTiO"
      },
      "source": [
        ""
      ],
      "execution_count": null,
      "outputs": []
    }
  ]
}